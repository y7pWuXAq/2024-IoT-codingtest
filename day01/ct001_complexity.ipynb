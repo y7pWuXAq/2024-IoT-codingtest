{
 "cells": [
  {
   "cell_type": "markdown",
   "metadata": {},
   "source": [
    "### 복잡도\n",
    "\n",
    "#### 유형\n",
    "- 어떤 알고리즘을 모두 처리하는데 사용되는 리소스의 크기\n",
    "    - 공간복잡도 - 연산시 필요한 메모리의 양. 일반적인 복잡도에서 사용X\n",
    "    - 시간복잡도 - 연산시 필요한 연산의 수(= 시간). 짧은 시간에 해결되는 것이 관건\n",
    "- 시간복잡도 - 코딩테스트(알고리즘 문제풀이)에서 사용하는 복잡도"
   ]
  },
  {
   "cell_type": "code",
   "execution_count": 6,
   "metadata": {},
   "outputs": [
    {
     "name": "stdout",
     "output_type": "stream",
     "text": [
      "12\n"
     ]
    }
   ],
   "source": [
    "a, b = 5, 7\n",
    "print(a + b)"
   ]
  },
  {
   "cell_type": "markdown",
   "metadata": {},
   "source": [
    "- O(1)\n",
    "    - 처리되는데 아무런 복잡도가 없음"
   ]
  },
  {
   "cell_type": "code",
   "execution_count": 5,
   "metadata": {},
   "outputs": [
    {
     "data": {
      "text/plain": [
       "2500"
      ]
     },
     "execution_count": 5,
     "metadata": {},
     "output_type": "execute_result"
    }
   ],
   "source": [
    "array = [i for i in range(1, 101, 2)]\n",
    "sum = 0\n",
    "\n",
    "for x in array: # 반복문이 1개\n",
    "    sum += x\n",
    "\n",
    "sum"
   ]
  },
  {
   "cell_type": "markdown",
   "metadata": {},
   "source": [
    "- O(n)\n",
    "    - 배열의 크기가 늘어나는 만큼 처리시간도 늘어남\n",
    "    - n, 2n, 3n, n + 10 - n앞 배수나 플러스되는 수는 비중이 크지 않음\n",
    "    - n으로 귀결 -> n의 복잡도를 가진다 --> O(n)\n",
    "    - 1차 방정식으로 수가 증가되는 알고리즘"
   ]
  },
  {
   "cell_type": "code",
   "execution_count": 7,
   "metadata": {},
   "outputs": [
    {
     "data": {
      "text/plain": [
       "25502500"
      ]
     },
     "execution_count": 7,
     "metadata": {},
     "output_type": "execute_result"
    }
   ],
   "source": [
    "array = [i for i in range(1, 101)]\n",
    "\n",
    "result = 0\n",
    "for i in array: # 반복문1 ~ 100번 반복\n",
    "    for j in array: # 반복문2 100반복을 100번더 반복 - 10000번\n",
    "        result += i * j\n",
    "\n",
    "result"
   ]
  },
  {
   "cell_type": "markdown",
   "metadata": {},
   "source": [
    "- $O(n ^ 2)$\n",
    "    - 2중 반복문에서 나오는 복잡도\n",
    "    - $3n^2 + 5n + 3$ --> 뒤의 n은 수가 크지 않다고 판단, 삭제, 2차 방정식에서 2차원만 추출"
   ]
  },
  {
   "cell_type": "markdown",
   "metadata": {},
   "source": [
    "|BigO|명칭|\n",
    "|---|---|\n",
    "|$O(1)$|상수시간|\n",
    "|$O(logN)$|로그시간 - 1차 반복을 아주 짧은시간에 끝낼수 있다|\n",
    "|$O(N)$|선형시간|\n",
    "|$O(NlogN)$|로그선형시간 - 2차 반복중 안쪽 반복문이 아주 짧은시간안에 끝남|\n",
    "|$O(N^2)$|2차시간|\n",
    "|$O(N^3)$|3차시간 - 3중 반복문|\n",
    "|$O(2^N)$|지수시간|\n",
    "\n",
    "![BigO](https://velog.velcdn.com/images/woogie_velog/post/9c0f7ce1-a8b7-4fc4-afb4-cb34a316f687/image.png)"
   ]
  },
  {
   "cell_type": "markdown",
   "metadata": {},
   "source": [
    "- 통상적으로 코딩테스트에서 문제의 복잡도는 $N^2$ 을 넘기지 않도록 해야 함\n",
    "- 연산시간이 5초 이상 넘지 않도록 코드 구현해야 함\n",
    "- 문제 푸는데 시간이 너무 많이 걸리면 Fail!"
   ]
  },
  {
   "cell_type": "markdown",
   "metadata": {},
   "source": [
    "- 시간구하기 로직\n",
    "    - import time\n",
    "    - start_time = time.time()\n",
    "    - end_time = time.time()\n",
    "    - end_time - start_time  # 두 시간차를 계산 == 처리시간"
   ]
  },
  {
   "cell_type": "code",
   "execution_count": 8,
   "metadata": {},
   "outputs": [
    {
     "name": "stdout",
     "output_type": "stream",
     "text": [
      "선택 정렬 성능 측정: 5.278400182723999\n",
      "기본 정렬 라이브러리 성능 측정: 0.000997304916381836\n"
     ]
    }
   ],
   "source": [
    "from random import randint\n",
    "import time\n",
    "\n",
    "# 배열에 10,000개의 정수를 삽입\n",
    "array = []\n",
    "for _ in range(10000):\n",
    "    array.append(randint(1, 100)) # 1부터 100 사이의 랜덤한 정수\n",
    "\n",
    "start_time = time.time()  # 시작시간 계산\n",
    "\n",
    "# 선택 정렬 알고리즘 구현\n",
    "for i in range(len(array)):\n",
    "    min_index = i # 가장 작은 원소의 인덱스\n",
    "    for j in range(i + 1, len(array)):\n",
    "        if array[min_index] > array[j]:\n",
    "            min_index = j\n",
    "    array[i], array[min_index] = array[min_index], array[i] # 스와프\n",
    "\n",
    "end_time = time.time() # 종료시간 계산\n",
    "print(\"선택 정렬 성능 측정:\", end_time - start_time) # 수행 시간 출력\n",
    "\n",
    "# 배열을 다시 무작위 데이터로 초기화\n",
    "array = []\n",
    "for _ in range(10000):\n",
    "    array.append(randint(1, 100)) # 1부터 100 사이의 랜덤한 정수\n",
    "\n",
    "# 기본 정렬 라이브러리 성능 측정\n",
    "start_time = time.time()\n",
    "\n",
    "# 기본 정렬 라이브러리 사용\n",
    "array.sort()\n",
    "\n",
    "end_time = time.time() # 측정 종료\n",
    "print(\"기본 정렬 라이브러리 성능 측정:\", end_time - start_time) # 수행 시간 출력"
   ]
  },
  {
   "cell_type": "markdown",
   "metadata": {},
   "source": [
    "- 파이썬의 정렬알고리즘이 우리가 만든것과는 비교도 안되게 빠르다\n",
    "- 파이썬 코테에서는 정렬에 대한 문제가 잘 안나옴\n",
    "- '내장된 정렬함수를 사용하지않고 구현하시오' 식의 문제는 나올 수 있음"
   ]
  }
 ],
 "metadata": {
  "kernelspec": {
   "display_name": "Python 3",
   "language": "python",
   "name": "python3"
  },
  "language_info": {
   "codemirror_mode": {
    "name": "ipython",
    "version": 3
   },
   "file_extension": ".py",
   "mimetype": "text/x-python",
   "name": "python",
   "nbconvert_exporter": "python",
   "pygments_lexer": "ipython3",
   "version": "3.11.5"
  }
 },
 "nbformat": 4,
 "nbformat_minor": 2
}
