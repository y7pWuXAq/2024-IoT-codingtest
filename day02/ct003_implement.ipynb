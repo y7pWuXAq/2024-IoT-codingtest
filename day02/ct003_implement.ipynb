{
 "cells": [
  {
   "cell_type": "markdown",
   "metadata": {},
   "source": [
    "### 구현\n",
    "\n",
    "- Python - C로 구현한 파이썬 자체(CPython)\n",
    "- PyPy - Python으로 구현한 파이썬 자체\n",
    "\n"
   ]
  },
  {
   "cell_type": "markdown",
   "metadata": {},
   "source": [
    "#### 예제 4-1 상하좌우\n",
    "- 여행가 A가 NxN 정사각형 공간에서, LRUD 방향으로 옮겨갈 수 있음\n",
    "- 1<=N<=100, 1<= A의 이동횟수 <= 100\n",
    "- 입력예시\n",
    "    ```shell\n",
    "    5\n",
    "    R R R U D D\n",
    "    ```\n",
    "- 출력예시\n",
    "    ```shell\n",
    "    3 4\n",
    "    ```\n",
    "\n",
    "- 복잡도 -> $O(n^2)$"
   ]
  },
  {
   "cell_type": "code",
   "execution_count": 7,
   "metadata": {},
   "outputs": [
    {
     "name": "stdout",
     "output_type": "stream",
     "text": [
      "3 4\n"
     ]
    }
   ],
   "source": [
    "N = int(input()) # 공간크기 입력\n",
    "X, Y = 1, 1 # 시작위치\n",
    "plans = input().split() # 공백으로 잘라서 \n",
    "\n",
    "# print(N, X, Y, plans)\n",
    "## L, R, U, D에 따른 이동방향\n",
    "directions = ['L', 'R', 'U', 'D'] # 0=L, 1=R, 2=U, 3=D\n",
    "dx = [-1, 1, 0, 0] # 이동방향에 대한 x값\n",
    "dy = [0, 0, -1, 1] # 이동방향에 대한 y값. 계산시에 dx, dy를 같이 씀\n",
    "\n",
    "# 이동 계획을 반복\n",
    "for plan in plans: # r r r u d d\n",
    "    dir = str(plan).upper()\n",
    "    # print(dir)\n",
    "    # 이동 뒤 좌표를 구함\n",
    "    for i in range(len(directions)):\n",
    "        if dir == directions[i]:\n",
    "            nx = X + dx[i] # LR에서는 이동이됨. UD일때는 0을 더하니까 아무런 변화가 없음\n",
    "            ny = Y + dy[i] # UD일때 이동, LR일때는 + 0 \n",
    "    # 공간을 벗어나는 좌표가 되면 무시\n",
    "    # N을 주면 x좌표는 1, N사이 y도 1, N 사이의 좌표만 생김\n",
    "    if nx < 1 or nx > N or ny < 1 or ny > N: \n",
    "        # 위에서 구한 nx, ny 값은 필요없음\n",
    "        continue\n",
    "    else:\n",
    "        X, Y = nx, ny\n",
    "\n",
    "print(Y, X)"
   ]
  },
  {
   "cell_type": "markdown",
   "metadata": {},
   "source": [
    "#### P118 게임 개발\n",
    "- 1x1 정사각형 타일로 이루어진 NxM 크기의 직사각형 지도\n",
    "- 1은 바다, 0은 육지\n",
    "- 캐릭터는 동(1)서(3)남(2)북(0)을 바라보고 있음\n",
    "- 캐릭터는 상하좌우로 이동가능, 바다로 된 공간은 이동불가\n",
    "- 캐릭터는 북쪽으로 이동, 90도 왼쪽으로 회전 서쪽으로 이동, 네 방향모두 이미 가본 칸이거나 바다로 되어 있으면, 바라보는 방향을 유지하고 한칸 뒤로 이동\n",
    "- 이 루틴 반복해서 캐릭터가 방문한 칸의 수를 출력하는 프로그램 작성\n",
    "\n",
    "- 입력예시\n",
    "    ```shell\n",
    "    4 4  # 4x4 지도 생성\n",
    "    1 1 0 # 캐릭터 x, y, 방향(0=북쪽)\n",
    "    1 1 1 1  # 0은 육지, 1 바다 첫줄은 모두 바다\n",
    "    1 0 0 1\n",
    "    1 1 0 1\n",
    "    1 1 1 1  # 전부바다\n",
    "    ```\n",
    "- 출력예시\n",
    "    ```shell\n",
    "    3\n",
    "    ```"
   ]
  },
  {
   "cell_type": "code",
   "execution_count": 2,
   "metadata": {},
   "outputs": [
    {
     "name": "stdout",
     "output_type": "stream",
     "text": [
      "동쪽\n",
      "남쪽\n",
      "3\n"
     ]
    }
   ],
   "source": [
    "# N, M 값 공백으로 입력\n",
    "n, m = map(int, input().split())\n",
    "\n",
    "## 지도초기화\n",
    "map1 = [[0] * m for _ in range(n)] # 지도이기때문에 map으로 변수를 만들면 문제발생 map() 충돌!!\n",
    "# 현재 캐릭터 위치, 방향 입력\n",
    "x, y, direct = map(int, input().split()) \n",
    "map1[x][y] = 1 # 현재 좌표 방문처리\n",
    "# map1 # 방문한 위치는 1, 방문하지 않은 곳 0\n",
    "\n",
    "## 전체맵 정보를 입력받기\n",
    "array = []\n",
    "for i in range(n):\n",
    "    array.append(list(map(int, input().split())))\n",
    "\n",
    "# 북동남서 방향 정의(우리가 익히 알고 있는 x,y랑 반대로 생각)\n",
    "dx = [-1, 0, 1, 0]\n",
    "dy = [0, 1, 0, -1]\n",
    "\n",
    "# 왼쪽으로 회전 함수\n",
    "# 북쪽0, 서쪽3, 남쪽2, 동쪽1\n",
    "def turnLeft():\n",
    "    global direct # 입력받은 캐릭터 방향을 전역변수로 선언\n",
    "    direct -= 1 # 만약 북쪽일경우 -1을빼면 -1\n",
    "    if direct == -1: direct = 3\n",
    "\n",
    "def printDirect(direc):\n",
    "    if direc == 0: print('북쪽')\n",
    "    elif direc == 1: print('동쪽')\n",
    "    elif direc == 2: print('남쪽')\n",
    "    elif direc == 3: print('서쪽')\n",
    "\n",
    "## 맵에서 칸을 방문하는 로직 구현\n",
    "count = 1 # 첫번째 칸을 방문했기 때문에 1\n",
    "turnTime = 0\n",
    "\n",
    "while True:    \n",
    "    turnLeft()  # 왼쪽 회전 \n",
    "    nx = x + dx[direct]  # 북쪽0인경우 dx[0] dy[0]\n",
    "    ny = y + dy[direct]\n",
    "    ## 캐릭터가 보는 방향으로 가보지않은 곳(map1에 저장되어이있음 )이라면 이동\n",
    "    if map1[nx][ny] == 0 and array[nx][ny] == 0: # map1[nx][ny] ==0(미방문), array[nx][ny] == 0(육지)        \n",
    "        # printDirect(direct)\n",
    "        map1[nx][ny] = 1 # 방문\n",
    "        x = nx; y = ny # 현재위치 변경\n",
    "        count += 1 # 방문한 칸수 증가\n",
    "        turnTime = 0\n",
    "        continue\n",
    "    else: # 방문한 이후 가보지않은 칸이 없거나, 바다일 경우\n",
    "        turnTime += 1\n",
    "    \n",
    "    ## 네 방향 모두 갈수 없는 경우\n",
    "    if turnTime == 4:\n",
    "        nx = x - dx[direct]\n",
    "        ny = y - dy[direct]\n",
    "        ## 뒤로갈 수 있는지 \n",
    "        if array[nx][ny] == 0: # 육지여야지 이동가능\n",
    "            x = nx; y = ny\n",
    "        else:\n",
    "            break\n",
    "        turnTime = 0\n",
    "\n",
    "print(count) ## 이동한 칸의 수"
   ]
  }
 ],
 "metadata": {
  "kernelspec": {
   "display_name": "Python 3",
   "language": "python",
   "name": "python3"
  },
  "language_info": {
   "codemirror_mode": {
    "name": "ipython",
    "version": 3
   },
   "file_extension": ".py",
   "mimetype": "text/x-python",
   "name": "python",
   "nbconvert_exporter": "python",
   "pygments_lexer": "ipython3",
   "version": "3.11.5"
  }
 },
 "nbformat": 4,
 "nbformat_minor": 2
}
